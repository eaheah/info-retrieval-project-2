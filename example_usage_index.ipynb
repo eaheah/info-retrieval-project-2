{
 "cells": [
  {
   "cell_type": "code",
   "execution_count": 1,
   "metadata": {},
   "outputs": [],
   "source": [
    "%load_ext autoreload\n",
    "%autoreload 2"
   ]
  },
  {
   "cell_type": "code",
   "execution_count": null,
   "metadata": {},
   "outputs": [],
   "source": []
  },
  {
   "cell_type": "code",
   "execution_count": 2,
   "metadata": {},
   "outputs": [],
   "source": [
    "from web_crawler import WebCrawler\n",
    "from content_processor import ContentProcessor\n",
    "from analyze import Analyze\n",
    "from index import Index\n",
    "import warnings\n",
    "warnings.filterwarnings('ignore')"
   ]
  },
  {
   "cell_type": "code",
   "execution_count": null,
   "metadata": {},
   "outputs": [],
   "source": []
  },
  {
   "cell_type": "code",
   "execution_count": 3,
   "metadata": {},
   "outputs": [
    {
     "data": {
      "text/html": [
       "<table><tr><td>Live URL</td><td>File</td><td>Status</td><td># Links</td><td># Images</td></tr><tr><td><a href=http://www.nba.com>http://www.nba.com<td><a href=repository/1.html>http://www.nba.com/</a></td><td>200</td><td>120</td><td>25</td></tr><tr><td><a href=http://www.nba.com/article/2018/11/12/jimmy-butler-trade-philadelphia-76ers-complete>http://www.nba.com/article/2018/11/12/jimmy-butler-trade-philadelphia-76ers-complete<td><a href=repository/2.html>http://www.nba.com/article/2018/11/12/jimmy-butler-trade-philadelphia-76ers-complete</a></td><td>200</td><td>105</td><td>2</td></tr><tr><td><a href=http://www.nba.com/video/2018/11/11/20181111-top-10-assists-week>http://www.nba.com/video/2018/11/11/20181111-top-10-assists-week<td><a href=repository/3.html>http://www.nba.com/video/2018/11/11/20181111-top-10-assists-week</a></td><td>200</td><td>97</td><td>1</td></tr><tr><td><a href=http://www.nba.com/key-dates>http://www.nba.com/key-dates<td><a href=repository/4.html>http://www.nba.com/key-dates</a></td><td>200</td><td>82</td><td>2</td></tr><tr><td><a href=http://www.nba.com/news/faq>http://www.nba.com/news/faq<td><a href=repository/5.html>http://www.nba.com/news/faq</a></td><td>200</td><td>144</td><td>1</td></tr><tr><td><a href=http://www.nba.com/video/2018/11/12/20181111-gt-paul-postgame-melo-situation>http://www.nba.com/video/2018/11/12/20181111-gt-paul-postgame-melo-situation<td><a href=repository/6.html>http://www.nba.com/video/2018/11/12/20181111-gt-paul-postgame-melo-situation</a></td><td>200</td><td>97</td><td>1</td></tr><tr><td><a href=http://www.nba.com/shaqtin-a-fool-archive>http://www.nba.com/shaqtin-a-fool-archive<td><a href=repository/7.html>http://www.nba.com/shaqtin-a-fool-archive</a></td><td>200</td><td>354</td><td>4</td></tr><tr><td><a href=http://www.nba.com/news>http://www.nba.com/news<td><a href=repository/8.html>http://www.nba.com/news</a></td><td>200</td><td>107</td><td>3</td></tr><tr><td><a href=http://www.nba.com/video>http://www.nba.com/video<td><a href=repository/9.html>http://www.nba.com/video</a></td><td>200</td><td>97</td><td>1</td></tr><tr><td><a href=http://www.nba.com/leaguepass>http://www.nba.com/leaguepass<td><a href=repository/10.html>http://www.nba.com/leaguepass</a></td><td>200</td><td>13</td><td>37</td></tr></table>"
      ],
      "text/plain": [
       "<IPython.core.display.HTML object>"
      ]
     },
     "metadata": {},
     "output_type": "display_data"
    }
   ],
   "source": [
    "nba_crawler = WebCrawler(seed='http://www.nba.com/', num_pages=10, domain='www.nba.com', threaded=True)"
   ]
  },
  {
   "cell_type": "code",
   "execution_count": null,
   "metadata": {},
   "outputs": [],
   "source": []
  },
  {
   "cell_type": "code",
   "execution_count": 4,
   "metadata": {},
   "outputs": [],
   "source": [
    "cp = ContentProcessor()\n",
    "cp.process_repository()"
   ]
  },
  {
   "cell_type": "code",
   "execution_count": null,
   "metadata": {},
   "outputs": [],
   "source": []
  },
  {
   "cell_type": "code",
   "execution_count": 9,
   "metadata": {},
   "outputs": [
    {
     "name": "stdout",
     "output_type": "stream",
     "text": [
      "Final Bulking\n",
      "Final Bulking\n",
      "Final Bulking\n",
      "Indexed 0 documents to index test2\n"
     ]
    }
   ],
   "source": [
    "i = Index(page_size=4, index='test2', recreate=False)\n",
    "i.index()"
   ]
  },
  {
   "cell_type": "code",
   "execution_count": null,
   "metadata": {},
   "outputs": [],
   "source": []
  }
 ],
 "metadata": {
  "kernelspec": {
   "display_name": "Python 3",
   "language": "python",
   "name": "python3"
  },
  "language_info": {
   "codemirror_mode": {
    "name": "ipython",
    "version": 3
   },
   "file_extension": ".py",
   "mimetype": "text/x-python",
   "name": "python",
   "nbconvert_exporter": "python",
   "pygments_lexer": "ipython3",
   "version": "3.6.6"
  }
 },
 "nbformat": 4,
 "nbformat_minor": 2
}
